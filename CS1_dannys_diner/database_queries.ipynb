{
 "cells": [
  {
   "cell_type": "code",
   "execution_count": 2,
   "metadata": {},
   "outputs": [],
   "source": [
    "import sqlite3\n",
    "import pandas as pd\n",
    "\n",
    "conn = sqlite3.connect('dannys_diner.sqlite3') "
   ]
  },
  {
   "cell_type": "markdown",
   "metadata": {},
   "source": [
    "### Question 1: How much did each customer spend?"
   ]
  },
  {
   "cell_type": "code",
   "execution_count": 3,
   "metadata": {},
   "outputs": [
    {
     "name": "stdout",
     "output_type": "stream",
     "text": [
      "  customer_id  spend\n",
      "0           A     76\n",
      "1           B     74\n",
      "2           C     36\n"
     ]
    }
   ],
   "source": [
    "sql = ('''\n",
    "       SELECT customer_id, SUM(price) AS spend\n",
    "       FROM sales\n",
    "       INNER JOIN menu\n",
    "         ON sales.product_id = menu.product_id\n",
    "       GROUP BY customer_id\n",
    "       ''')\n",
    "\n",
    "df = pd.read_sql_query(sql, conn)\n",
    "print(df)"
   ]
  },
  {
   "cell_type": "markdown",
   "metadata": {},
   "source": [
    "### Question 2: How many days has each customer visited the restaurant?"
   ]
  },
  {
   "cell_type": "code",
   "execution_count": 4,
   "metadata": {},
   "outputs": [
    {
     "name": "stdout",
     "output_type": "stream",
     "text": [
      "  customer_id  visit_days\n",
      "0           A           4\n",
      "1           B           6\n",
      "2           C           2\n"
     ]
    }
   ],
   "source": [
    "sql = ('''\n",
    "       SELECT customer_id, COUNT(DISTINCT order_date) AS visit_days\n",
    "       FROM sales\n",
    "       GROUP BY customer_id\n",
    "       ''')\n",
    "\n",
    "df = pd.read_sql_query(sql, conn)\n",
    "print(df)"
   ]
  },
  {
   "cell_type": "markdown",
   "metadata": {},
   "source": [
    "### Question 3: What was the first item from the menu purchased by each customer?"
   ]
  },
  {
   "cell_type": "code",
   "execution_count": 5,
   "metadata": {},
   "outputs": [
    {
     "name": "stdout",
     "output_type": "stream",
     "text": [
      "  customer_id first_product\n",
      "0           A         sushi\n",
      "1           B         curry\n",
      "2           C         ramen\n"
     ]
    }
   ],
   "source": [
    "sql = ('''\n",
    "       WITH product_rn AS (\n",
    "\t        SELECT *,\n",
    "\t\t           ROW_NUMBER() OVER(PARTITION BY customer_id ORDER BY order_date) as row_num\n",
    "            FROM sales)\n",
    "\n",
    "       SELECT customer_id, product_name as first_product\n",
    "       FROM product_rn\n",
    "       INNER JOIN menu\n",
    "         ON product_rn.product_id = menu.product_id\n",
    "        WHERE row_num = 1\n",
    "       ''')\n",
    "\n",
    "df = pd.read_sql_query(sql, conn)\n",
    "print(df)"
   ]
  },
  {
   "cell_type": "markdown",
   "metadata": {},
   "source": [
    "### Question 4: What is the most purchased item on the menu and how many times was it purchased by all customers?"
   ]
  },
  {
   "cell_type": "code",
   "execution_count": 6,
   "metadata": {},
   "outputs": [
    {
     "name": "stdout",
     "output_type": "stream",
     "text": [
      "  product_name  purchases\n",
      "0        ramen          8\n"
     ]
    }
   ],
   "source": [
    "sql = ('''\n",
    "       SELECT product_name, COUNT(*) AS purchases\n",
    "       FROM sales\n",
    "       INNER JOIN menu\n",
    "         ON sales.product_id = menu.product_id\n",
    "       GROUP BY product_name\n",
    "       ORDER BY purchases DESC\n",
    "       LIMIT 1\n",
    "       ''')\n",
    "\n",
    "df = pd.read_sql_query(sql, conn)\n",
    "print(df)"
   ]
  },
  {
   "cell_type": "markdown",
   "metadata": {},
   "source": [
    "### Question 5: Which item was the most popular for each customer?"
   ]
  },
  {
   "cell_type": "code",
   "execution_count": 7,
   "metadata": {},
   "outputs": [
    {
     "name": "stdout",
     "output_type": "stream",
     "text": [
      "  customer_id product_name  purchases\n",
      "0           A        ramen          3\n",
      "1           B        sushi          2\n",
      "2           B        curry          2\n",
      "3           B        ramen          2\n",
      "4           C        ramen          3\n"
     ]
    }
   ],
   "source": [
    "sql = ('''\n",
    "       WITH most_ordered AS(\n",
    "         SELECT customer_id,\n",
    "                product_id,\n",
    "                COUNT(*) AS purchases,\n",
    "                RANK() OVER(PARTITION BY customer_id ORDER BY COUNT(*) DESC) AS rank\n",
    "\t     FROM sales\n",
    "\t     GROUP BY customer_id, product_id)\n",
    "\n",
    "    SELECT customer_id,\n",
    "        product_name,\n",
    "        purchases\n",
    "    FROM most_ordered\n",
    "    INNER JOIN menu\n",
    "        ON most_ordered.product_id = menu.product_id\n",
    "    WHERE rank = 1\n",
    "    ORDER BY customer_id\n",
    "       ''')\n",
    "\n",
    "df = pd.read_sql_query(sql, conn)\n",
    "print(df)"
   ]
  },
  {
   "cell_type": "markdown",
   "metadata": {},
   "source": [
    "### Question 6: Which item was purchased first by the customer after they became a member?"
   ]
  },
  {
   "cell_type": "code",
   "execution_count": 8,
   "metadata": {},
   "outputs": [
    {
     "name": "stdout",
     "output_type": "stream",
     "text": [
      "  customer_id product_name\n",
      "0           A        curry\n",
      "1           B        sushi\n"
     ]
    }
   ],
   "source": [
    "sql = ('''\n",
    "       WITH after_join \n",
    "            AS (SELECT *,\n",
    "                    RANK() OVER(PARTITION BY sales.customer_id ORDER BY order_date) AS ranking\n",
    "                FROM members\n",
    "                LEFT JOIN sales\n",
    "                    ON sales.customer_id = members.customer_id\n",
    "                LEFT JOIN menu\n",
    "                    ON sales.product_id = menu.product_id\n",
    "                WHERE order_date >= (SELECT join_date FROM members)\n",
    "                )\n",
    "\n",
    "        SELECT customer_id,\n",
    "               product_name\n",
    "        FROM after_join\n",
    "        WHERE ranking = 1\n",
    "       ''')\n",
    "\n",
    "df = pd.read_sql_query(sql, conn)\n",
    "print(df)"
   ]
  },
  {
   "cell_type": "markdown",
   "metadata": {},
   "source": [
    "### Question 7: Which item was purchased just before the customer became a member?\n",
    "Note: As customer A purchased two items simultaneously, it's assumed both are to be included."
   ]
  },
  {
   "cell_type": "code",
   "execution_count": 9,
   "metadata": {},
   "outputs": [
    {
     "name": "stdout",
     "output_type": "stream",
     "text": [
      "  customer_id product_name\n",
      "0           A        sushi\n",
      "1           A        curry\n",
      "2           B        sushi\n"
     ]
    }
   ],
   "source": [
    "sql = ('''\n",
    "       WITH after_join \n",
    "        \tAS (SELECT *,\n",
    "\t\t\t\t\tRANK() OVER(PARTITION BY sales.customer_id ORDER BY order_date DESC) AS ranking\n",
    "\t\t\t\tFROM members\n",
    "\t\t\t\tLEFT JOIN sales\n",
    "\t\t\t\t\tON sales.customer_id = members.customer_id\n",
    "\t\t\t\tLEFT JOIN menu\n",
    "\t\t\t\t\tON sales.product_id = menu.product_id\n",
    "\t\t\t\tWHERE order_date < (SELECT join_date FROM members)\n",
    "\t\t\t\t)\n",
    "\n",
    "\t\tSELECT customer_id,\n",
    "\t\t\tproduct_name\n",
    "\t\tFROM after_join\n",
    "\t\tWHERE ranking = 1\n",
    "       ''')\n",
    "\n",
    "df = pd.read_sql_query(sql, conn)\n",
    "print(df)"
   ]
  },
  {
   "cell_type": "markdown",
   "metadata": {},
   "source": [
    "### Question 8: What is the total items and amount spent for each member before they became a member?"
   ]
  },
  {
   "cell_type": "code",
   "execution_count": 11,
   "metadata": {},
   "outputs": [
    {
     "name": "stdout",
     "output_type": "stream",
     "text": [
      "  customer_id  total_spend\n",
      "0           A           25\n",
      "1           B           40\n"
     ]
    }
   ],
   "source": [
    "sql = ('''\n",
    "        WITH after_join \n",
    "            AS (SELECT sales.customer_id, product_name, price\n",
    "                FROM members\n",
    "                LEFT JOIN sales\n",
    "                    ON sales.customer_id = members.customer_id\n",
    "                LEFT JOIN menu\n",
    "                    ON sales.product_id = menu.product_id\n",
    "                WHERE order_date < (SELECT join_date FROM members)\n",
    "                )\n",
    "\n",
    "        SELECT customer_id,\n",
    "               SUM(price) AS total_spend\n",
    "        FROM after_join\n",
    "        GROUP BY customer_id\n",
    "       ''')\n",
    "\n",
    "df = pd.read_sql_query(sql, conn)\n",
    "print(df)"
   ]
  },
  {
   "cell_type": "markdown",
   "metadata": {},
   "source": [
    "### Question 9: If each $1 spent equates to 10 points and sushi has a 2x points multiplier - how many points would each customer have?\n",
    "\n",
    "Note: It's assumed that only members receive points, and only from all purchases from their joining date onwards."
   ]
  },
  {
   "cell_type": "code",
   "execution_count": 12,
   "metadata": {},
   "outputs": [
    {
     "name": "stdout",
     "output_type": "stream",
     "text": [
      "  customer_id  points\n",
      "0           A     510\n",
      "1           B     440\n"
     ]
    }
   ],
   "source": [
    "sql = ('''\n",
    "        WITH after_join \n",
    "\t\t    AS (SELECT sales.customer_id,\n",
    "                       price,\n",
    "                       sales.product_id\n",
    "                FROM members\n",
    "                LEFT JOIN sales\n",
    "                    ON sales.customer_id = members.customer_id\n",
    "                LEFT JOIN menu\n",
    "                    ON sales.product_id = menu.product_id\n",
    "                WHERE order_date >= (SELECT join_date FROM members)\n",
    "                )\n",
    "\n",
    "SELECT customer_id,\n",
    "\t   SUM(CASE\n",
    "\t\t   WHEN product_id = 1 THEN price * 20\n",
    "\t\t   ELSE price * 10\n",
    "\t\t   END) AS points\n",
    "FROM after_join\n",
    "GROUP BY customer_id\n",
    "       ''')\n",
    "\n",
    "df = pd.read_sql_query(sql, conn)\n",
    "print(df)"
   ]
  }
 ],
 "metadata": {
  "kernelspec": {
   "display_name": "Python 3.9.13 ('sql-challenge')",
   "language": "python",
   "name": "python3"
  },
  "language_info": {
   "codemirror_mode": {
    "name": "ipython",
    "version": 3
   },
   "file_extension": ".py",
   "mimetype": "text/x-python",
   "name": "python",
   "nbconvert_exporter": "python",
   "pygments_lexer": "ipython3",
   "version": "3.9.13"
  },
  "orig_nbformat": 4,
  "vscode": {
   "interpreter": {
    "hash": "d7f6729538d8e89c132cb2beafa308239f0abef8dff0594ce8bcd09a73002775"
   }
  }
 },
 "nbformat": 4,
 "nbformat_minor": 2
}
