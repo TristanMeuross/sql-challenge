{
 "cells": [
  {
   "cell_type": "markdown",
   "metadata": {},
   "source": [
    "## Case Study #1 - Danny's Diner\n",
    "\n",
    "### Problem Statement\n",
    "Danny wants to use the data to answer a few simple questions about his customers, especially about their visiting patterns, how much money they’ve spent and also which menu items are their favourite. Having this deeper connection with his customers will help him deliver a better and more personalised experience for his loyal customers.\n",
    "\n",
    "He plans on using these insights to help him decide whether he should expand the existing customer loyalty program - additionally he needs help to generate some basic datasets so his team can easily inspect the data without needing to use SQL."
   ]
  },
  {
   "cell_type": "code",
   "execution_count": 25,
   "metadata": {},
   "outputs": [],
   "source": [
    "import sqlite3\n",
    "import pandas as pd\n",
    "\n",
    "conn = sqlite3.connect('dannys_diner.sqlite3') "
   ]
  },
  {
   "cell_type": "markdown",
   "metadata": {},
   "source": [
    "### Question 1: How much did each customer spend?"
   ]
  },
  {
   "cell_type": "code",
   "execution_count": 26,
   "metadata": {},
   "outputs": [
    {
     "name": "stdout",
     "output_type": "stream",
     "text": [
      "  customer_id  spend\n",
      "0           A     76\n",
      "1           B     74\n",
      "2           C     36\n"
     ]
    }
   ],
   "source": [
    "sql = ('''\n",
    "       SELECT customer_id, SUM(price) AS spend\n",
    "       FROM sales\n",
    "       INNER JOIN menu\n",
    "         ON sales.product_id = menu.product_id\n",
    "       GROUP BY customer_id\n",
    "       ''')\n",
    "\n",
    "df = pd.read_sql_query(sql, conn)\n",
    "print(df)"
   ]
  },
  {
   "cell_type": "markdown",
   "metadata": {},
   "source": [
    "### Question 2: How many days has each customer visited the restaurant?"
   ]
  },
  {
   "cell_type": "code",
   "execution_count": 27,
   "metadata": {},
   "outputs": [
    {
     "name": "stdout",
     "output_type": "stream",
     "text": [
      "  customer_id  visit_days\n",
      "0           A           4\n",
      "1           B           6\n",
      "2           C           2\n"
     ]
    }
   ],
   "source": [
    "sql = ('''\n",
    "       SELECT customer_id, COUNT(DISTINCT order_date) AS visit_days\n",
    "       FROM sales\n",
    "       GROUP BY customer_id\n",
    "       ''')\n",
    "\n",
    "df = pd.read_sql_query(sql, conn)\n",
    "print(df)"
   ]
  },
  {
   "cell_type": "markdown",
   "metadata": {},
   "source": [
    "### Question 3: What was the first item from the menu purchased by each customer?"
   ]
  },
  {
   "cell_type": "code",
   "execution_count": 28,
   "metadata": {},
   "outputs": [
    {
     "name": "stdout",
     "output_type": "stream",
     "text": [
      "  customer_id first_product\n",
      "0           A         sushi\n",
      "1           B         curry\n",
      "2           C         ramen\n"
     ]
    }
   ],
   "source": [
    "sql = ('''\n",
    "       WITH product_rn AS (\n",
    "\t        SELECT *,\n",
    "\t\t           ROW_NUMBER() OVER(PARTITION BY customer_id ORDER BY order_date) as row_num\n",
    "            FROM sales)\n",
    "\n",
    "       SELECT customer_id, product_name as first_product\n",
    "       FROM product_rn\n",
    "       INNER JOIN menu\n",
    "         ON product_rn.product_id = menu.product_id\n",
    "        WHERE row_num = 1\n",
    "       ''')\n",
    "\n",
    "df = pd.read_sql_query(sql, conn)\n",
    "print(df)"
   ]
  },
  {
   "cell_type": "markdown",
   "metadata": {},
   "source": [
    "### Question 4: What is the most purchased item on the menu and how many times was it purchased by all customers?"
   ]
  },
  {
   "cell_type": "code",
   "execution_count": 29,
   "metadata": {},
   "outputs": [
    {
     "name": "stdout",
     "output_type": "stream",
     "text": [
      "  product_name  purchases\n",
      "0        ramen          8\n"
     ]
    }
   ],
   "source": [
    "sql = ('''\n",
    "       SELECT product_name, COUNT(*) AS purchases\n",
    "       FROM sales\n",
    "       INNER JOIN menu\n",
    "         ON sales.product_id = menu.product_id\n",
    "       GROUP BY product_name\n",
    "       ORDER BY purchases DESC\n",
    "       LIMIT 1\n",
    "       ''')\n",
    "\n",
    "df = pd.read_sql_query(sql, conn)\n",
    "print(df)"
   ]
  },
  {
   "cell_type": "markdown",
   "metadata": {},
   "source": [
    "### Question 5: Which item was the most popular for each customer?"
   ]
  },
  {
   "cell_type": "code",
   "execution_count": 30,
   "metadata": {},
   "outputs": [
    {
     "name": "stdout",
     "output_type": "stream",
     "text": [
      "  customer_id product_name  purchases\n",
      "0           A        ramen          3\n",
      "1           B        sushi          2\n",
      "2           B        curry          2\n",
      "3           B        ramen          2\n",
      "4           C        ramen          3\n"
     ]
    }
   ],
   "source": [
    "sql = ('''\n",
    "       WITH most_ordered AS(\n",
    "         SELECT customer_id,\n",
    "                product_id,\n",
    "                COUNT(*) AS purchases,\n",
    "                RANK() OVER(PARTITION BY customer_id ORDER BY COUNT(*) DESC) AS rank\n",
    "\t     FROM sales\n",
    "\t     GROUP BY customer_id, product_id)\n",
    "\n",
    "    SELECT customer_id,\n",
    "        product_name,\n",
    "        purchases\n",
    "    FROM most_ordered\n",
    "    INNER JOIN menu\n",
    "        ON most_ordered.product_id = menu.product_id\n",
    "    WHERE rank = 1\n",
    "    ORDER BY customer_id\n",
    "       ''')\n",
    "\n",
    "df = pd.read_sql_query(sql, conn)\n",
    "print(df)"
   ]
  },
  {
   "cell_type": "markdown",
   "metadata": {},
   "source": [
    "### Question 6: Which item was purchased first by the customer after they became a member?"
   ]
  },
  {
   "cell_type": "code",
   "execution_count": 31,
   "metadata": {},
   "outputs": [
    {
     "name": "stdout",
     "output_type": "stream",
     "text": [
      "  customer_id product_name\n",
      "0           A        curry\n",
      "1           B        sushi\n"
     ]
    }
   ],
   "source": [
    "sql = ('''\n",
    "       WITH after_join \n",
    "            AS (SELECT *,\n",
    "                    RANK() OVER(PARTITION BY sales.customer_id ORDER BY order_date) AS ranking\n",
    "                FROM members\n",
    "                LEFT JOIN sales\n",
    "                    ON sales.customer_id = members.customer_id\n",
    "                LEFT JOIN menu\n",
    "                    ON sales.product_id = menu.product_id\n",
    "                WHERE order_date >= join_date\n",
    "                )\n",
    "\n",
    "        SELECT customer_id,\n",
    "               product_name\n",
    "        FROM after_join\n",
    "        WHERE ranking = 1\n",
    "       ''')\n",
    "\n",
    "df = pd.read_sql_query(sql, conn)\n",
    "print(df)"
   ]
  },
  {
   "cell_type": "markdown",
   "metadata": {},
   "source": [
    "### Question 7: Which item was purchased just before the customer became a member?\n",
    "Note: As customer A purchased two items simultaneously, it's assumed both are to be included."
   ]
  },
  {
   "cell_type": "code",
   "execution_count": 32,
   "metadata": {},
   "outputs": [
    {
     "name": "stdout",
     "output_type": "stream",
     "text": [
      "  customer_id product_name\n",
      "0           A        sushi\n",
      "1           A        curry\n",
      "2           B        sushi\n"
     ]
    }
   ],
   "source": [
    "sql = ('''\n",
    "       WITH after_join \n",
    "        \tAS (SELECT *,\n",
    "\t\t\t\t\tRANK() OVER(PARTITION BY sales.customer_id ORDER BY order_date DESC) AS ranking\n",
    "\t\t\t\tFROM members\n",
    "\t\t\t\tLEFT JOIN sales\n",
    "\t\t\t\t\tON sales.customer_id = members.customer_id\n",
    "\t\t\t\tLEFT JOIN menu\n",
    "\t\t\t\t\tON sales.product_id = menu.product_id\n",
    "\t\t\t\tWHERE order_date < join_date\n",
    "\t\t\t\t)\n",
    "\n",
    "\t\tSELECT customer_id,\n",
    "\t\t\tproduct_name\n",
    "\t\tFROM after_join\n",
    "\t\tWHERE ranking = 1\n",
    "       ''')\n",
    "\n",
    "df = pd.read_sql_query(sql, conn)\n",
    "print(df)"
   ]
  },
  {
   "cell_type": "markdown",
   "metadata": {},
   "source": [
    "### Question 8: What is the total items and amount spent for each member before they became a member?"
   ]
  },
  {
   "cell_type": "code",
   "execution_count": 33,
   "metadata": {},
   "outputs": [
    {
     "name": "stdout",
     "output_type": "stream",
     "text": [
      "  customer_id  total_spend\n",
      "0           A           25\n",
      "1           B           40\n"
     ]
    }
   ],
   "source": [
    "sql = ('''\n",
    "        WITH after_join \n",
    "            AS (SELECT sales.customer_id, product_name, price\n",
    "                FROM members\n",
    "                LEFT JOIN sales\n",
    "                    ON sales.customer_id = members.customer_id\n",
    "                LEFT JOIN menu\n",
    "                    ON sales.product_id = menu.product_id\n",
    "                WHERE order_date < (SELECT join_date FROM members)\n",
    "                )\n",
    "\n",
    "        SELECT customer_id,\n",
    "               SUM(price) AS total_spend\n",
    "        FROM after_join\n",
    "        GROUP BY customer_id\n",
    "       ''')\n",
    "\n",
    "df = pd.read_sql_query(sql, conn)\n",
    "print(df)"
   ]
  },
  {
   "cell_type": "markdown",
   "metadata": {},
   "source": [
    "### Question 9: If each $1 spent equates to 10 points and sushi has a 2x points multiplier - how many points would each customer have?\n",
    "\n",
    "Note: It's assumed that only members receive points, and only from all purchases from their joining date onwards."
   ]
  },
  {
   "cell_type": "code",
   "execution_count": 34,
   "metadata": {},
   "outputs": [
    {
     "name": "stdout",
     "output_type": "stream",
     "text": [
      "  customer_id  points\n",
      "0           A     510\n",
      "1           B     440\n"
     ]
    }
   ],
   "source": [
    "sql = ('''\n",
    "        WITH after_join \n",
    "\t\t    AS (SELECT sales.customer_id,\n",
    "                       price,\n",
    "                       sales.product_id\n",
    "                FROM members\n",
    "                LEFT JOIN sales\n",
    "                    ON sales.customer_id = members.customer_id\n",
    "                LEFT JOIN menu\n",
    "                    ON sales.product_id = menu.product_id\n",
    "                WHERE order_date >= join_date\n",
    "                )\n",
    "\n",
    "SELECT customer_id,\n",
    "\t   SUM(CASE\n",
    "\t\t   WHEN product_id = 1 THEN price * 20\n",
    "\t\t   ELSE price * 10\n",
    "\t\t   END) AS points\n",
    "FROM after_join\n",
    "GROUP BY customer_id\n",
    "       ''')\n",
    "\n",
    "df = pd.read_sql_query(sql, conn)\n",
    "print(df)"
   ]
  },
  {
   "cell_type": "markdown",
   "metadata": {},
   "source": [
    "### Question 10: In the first week after a customer joins the program (including their join date) they earn 2x points on all items, not just sushi - how many points do customer A and B have at the end of January?\n",
    "Note: Again, this assumes that points will only be generated after the customer has become a member."
   ]
  },
  {
   "cell_type": "code",
   "execution_count": 35,
   "metadata": {},
   "outputs": [
    {
     "name": "stdout",
     "output_type": "stream",
     "text": [
      "  customer_id  points\n",
      "0           A    1020\n",
      "1           B     320\n"
     ]
    }
   ],
   "source": [
    "sql = ('''\n",
    "        WITH after_join \n",
    "\t\t    AS (SELECT sales.customer_id,\n",
    "                       order_date,\n",
    "                       join_date,\n",
    "                       price,\n",
    "                       sales.product_id\n",
    "                FROM members\n",
    "                LEFT JOIN sales\n",
    "                    ON sales.customer_id = members.customer_id\n",
    "                LEFT JOIN menu\n",
    "                    ON sales.product_id = menu.product_id\n",
    "                WHERE order_date >= join_date\n",
    "                )\n",
    "\n",
    "SELECT customer_id,\n",
    "\t   SUM(CASE\n",
    "\t\t   WHEN order_date <= DATE(join_date, '+6 day') THEN price * 20\n",
    "\t\t   WHEN product_id = 1 THEN price * 20\n",
    "\t\t   ELSE price * 10\n",
    "\t\t   END) AS points\n",
    "FROM after_join\n",
    "WHERE order_date <= '2021-01-31'\n",
    "GROUP BY customer_id\n",
    "       ''')\n",
    "\n",
    "df = pd.read_sql_query(sql, conn)\n",
    "print(df)"
   ]
  },
  {
   "cell_type": "markdown",
   "metadata": {},
   "source": [
    "### Bonus Question 1: Join all the things"
   ]
  },
  {
   "cell_type": "code",
   "execution_count": 36,
   "metadata": {},
   "outputs": [
    {
     "name": "stdout",
     "output_type": "stream",
     "text": [
      "   customer_id  order_date product_name  price member\n",
      "0            A  2021-01-01        sushi     10      N\n",
      "1            A  2021-01-01        curry     15      N\n",
      "2            A  2021-01-07        curry     15      Y\n",
      "3            A  2021-01-10        ramen     12      Y\n",
      "4            A  2021-01-11        ramen     12      Y\n",
      "5            A  2021-01-11        ramen     12      Y\n",
      "6            B  2021-01-01        curry     15      N\n",
      "7            B  2021-01-02        curry     15      N\n",
      "8            B  2021-01-04        sushi     10      N\n",
      "9            B  2021-01-11        sushi     10      Y\n",
      "10           B  2021-01-16        ramen     12      Y\n",
      "11           B  2021-02-01        ramen     12      Y\n",
      "12           C  2021-01-01        ramen     12      N\n",
      "13           C  2021-01-01        ramen     12      N\n",
      "14           C  2021-01-07        ramen     12      N\n"
     ]
    }
   ],
   "source": [
    "sql = ('''\n",
    "        SELECT sales.customer_id,\n",
    "\t           order_date,\n",
    "\t           product_name,\n",
    "\t           price,\n",
    "               CASE \n",
    "                 WHEN order_date >= join_date THEN 'Y'\n",
    "                 ELSE 'N'\n",
    "               END AS member\n",
    "        FROM sales\n",
    "        LEFT JOIN menu\n",
    "            ON sales.product_id = menu.product_id\n",
    "        LEFT JOIN members\n",
    "            ON sales.customer_id = members.customer_id\n",
    "       ''')\n",
    "\n",
    "df = pd.read_sql_query(sql, conn)\n",
    "print(df)"
   ]
  },
  {
   "cell_type": "markdown",
   "metadata": {},
   "source": [
    "### Bonus Question 2: Rank all the things"
   ]
  },
  {
   "cell_type": "code",
   "execution_count": 37,
   "metadata": {},
   "outputs": [
    {
     "name": "stdout",
     "output_type": "stream",
     "text": [
      "   customer_id  order_date product_name  price member  ranking\n",
      "0            A  2021-01-01        sushi     10      N      NaN\n",
      "1            A  2021-01-01        curry     15      N      NaN\n",
      "2            A  2021-01-07        curry     15      Y      1.0\n",
      "3            A  2021-01-10        ramen     12      Y      2.0\n",
      "4            A  2021-01-11        ramen     12      Y      3.0\n",
      "5            A  2021-01-11        ramen     12      Y      3.0\n",
      "6            B  2021-01-01        curry     15      N      NaN\n",
      "7            B  2021-01-02        curry     15      N      NaN\n",
      "8            B  2021-01-04        sushi     10      N      NaN\n",
      "9            B  2021-01-11        sushi     10      Y      1.0\n",
      "10           B  2021-01-16        ramen     12      Y      2.0\n",
      "11           B  2021-02-01        ramen     12      Y      3.0\n",
      "12           C  2021-01-01        ramen     12      N      NaN\n",
      "13           C  2021-01-01        ramen     12      N      NaN\n",
      "14           C  2021-01-07        ramen     12      N      NaN\n"
     ]
    }
   ],
   "source": [
    "sql = ('''\n",
    "        WITH pre_rank AS\n",
    "            (SELECT sales.customer_id,\n",
    "                    order_date,\n",
    "                    product_name,\n",
    "                    price,\n",
    "                    CASE \n",
    "                      WHEN order_date >= join_date THEN 'Y'\n",
    "                      ELSE 'N'\n",
    "                    END AS member\n",
    "            FROM sales\n",
    "            LEFT JOIN menu\n",
    "                ON sales.product_id = menu.product_id\n",
    "            LEFT JOIN members\n",
    "                ON sales.customer_id = members.customer_id\n",
    "            )\n",
    "\n",
    "        SELECT customer_id,\n",
    "            order_date,\n",
    "            product_name,\n",
    "            price,\n",
    "            member,\n",
    "            CASE\n",
    "              WHEN member = 'N' THEN NULL\n",
    "              ELSE RANK() OVER(PARTITION BY customer_id, member ORDER BY order_date)\n",
    "            END AS ranking\n",
    "        FROM pre_rank\n",
    "       ''')\n",
    "\n",
    "df = pd.read_sql_query(sql, conn)\n",
    "print(df)"
   ]
  }
 ],
 "metadata": {
  "kernelspec": {
   "display_name": "Python 3.9.13 ('sql-challenge')",
   "language": "python",
   "name": "python3"
  },
  "language_info": {
   "codemirror_mode": {
    "name": "ipython",
    "version": 3
   },
   "file_extension": ".py",
   "mimetype": "text/x-python",
   "name": "python",
   "nbconvert_exporter": "python",
   "pygments_lexer": "ipython3",
   "version": "3.9.13"
  },
  "orig_nbformat": 4,
  "vscode": {
   "interpreter": {
    "hash": "d7f6729538d8e89c132cb2beafa308239f0abef8dff0594ce8bcd09a73002775"
   }
  }
 },
 "nbformat": 4,
 "nbformat_minor": 2
}
